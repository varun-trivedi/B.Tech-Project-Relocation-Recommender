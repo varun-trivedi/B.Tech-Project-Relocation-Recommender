{
 "cells": [
  {
   "cell_type": "code",
   "execution_count": 1,
   "metadata": {},
   "outputs": [],
   "source": [
    "from selenium import webdriver\n",
    "from selenium.common.exceptions import NoSuchElementException\n",
    "from selenium.webdriver.chrome.options import Options\n"
   ]
  },
  {
   "cell_type": "code",
   "execution_count": 2,
   "metadata": {},
   "outputs": [],
   "source": [
    "cities = [\"Mumbai\",\"Chennai\",\"Kolkata\",\"New Delhi\"]\n",
    "states = [\"Maharashtra\",\"Tamil Nadu\",\"West Bengal\",\"Delhi\"]"
   ]
  },
  {
   "attachments": {},
   "cell_type": "markdown",
   "metadata": {},
   "source": [
    "Creating Map of cities to Index and states to Index"
   ]
  },
  {
   "cell_type": "code",
   "execution_count": 25,
   "metadata": {},
   "outputs": [
    {
     "name": "stdout",
     "output_type": "stream",
     "text": [
      "{'Mumbai': 0, 'Chennai': 1, 'Kolkata': 2, 'Delhi': 3, 'Maharashtra': 0, 'Tamil Nadu': 1, 'West Bengal': 2, 'New Delhi': 3}\n"
     ]
    }
   ],
   "source": [
    "a = 0\n",
    "dict = {}\n",
    "for i in cities:\n",
    "    dict.update({i : a})\n",
    "    a = a + 1\n",
    "a= 0\n",
    "for i in states:\n",
    "    dict.update({i:a})\n",
    "    a = a + 1\n",
    "print(dict)\n",
    "    "
   ]
  },
  {
   "attachments": {},
   "cell_type": "markdown",
   "metadata": {},
   "source": [
    "Dynamically Finding AQI of all cities considered."
   ]
  },
  {
   "cell_type": "code",
   "execution_count": 9,
   "metadata": {},
   "outputs": [
    {
     "name": "stderr",
     "output_type": "stream",
     "text": [
      "C:\\Users\\varun\\AppData\\Local\\Temp\\ipykernel_4692\\1417127162.py:7: DeprecationWarning: executable_path has been deprecated, please pass in a Service object\n",
      "  driver = webdriver.Chrome(options=options,executable_path=DRIVER_PATH)\n"
     ]
    },
    {
     "name": "stdout",
     "output_type": "stream",
     "text": [
      "87\n",
      "69\n",
      "93\n",
      "242\n",
      "[87, 69, 93, 242]\n"
     ]
    }
   ],
   "source": [
    "aqi_list = [0]*len(cities)\n",
    "options = Options()\n",
    "options.headless = True\n",
    "options.add_argument(\"--window-size=1920,1200\")\n",
    "\n",
    "DRIVER_PATH = \"/path/to/chromedriver\"\n",
    "driver = webdriver.Chrome(options=options,executable_path=DRIVER_PATH)\n",
    "for i in cities:\n",
    "    driver.get(\"https://www.google.com/search?q=\"+i+\"+aqi\")\n",
    "    aqi = driver.find_element(\"xpath\",\"//span[@class = 'pnbfad']\")\n",
    "    print(aqi.text)\n",
    "    aqi_list[dict[i]] = int(aqi.text)\n",
    "print(aqi_list)\n",
    "driver.quit()"
   ]
  },
  {
   "attachments": {},
   "cell_type": "markdown",
   "metadata": {},
   "source": [
    "Collecting Population Density of each city.\n",
    "Step 1: Get population of each city (Also get literacy rate as it will be needed in some other category)"
   ]
  },
  {
   "cell_type": "code",
   "execution_count": 10,
   "metadata": {},
   "outputs": [
    {
     "name": "stderr",
     "output_type": "stream",
     "text": [
      "C:\\Users\\varun\\AppData\\Local\\Temp\\ipykernel_4692\\1840481688.py:7: DeprecationWarning: executable_path has been deprecated, please pass in a Service object\n",
      "  driver = webdriver.Chrome(options=options,executable_path=DRIVER_PATH)\n"
     ]
    },
    {
     "name": "stdout",
     "output_type": "stream",
     "text": [
      "[12442373, 4646732, 4496694, 11034555]\n",
      "[89.73, 90.18, 86.31, 87.59]\n"
     ]
    }
   ],
   "source": [
    "options = Options()\n",
    "options.headless = True\n",
    "options.add_argument(\"--window-size=1920,1200\")\n",
    "pop_list = [0]*len(cities)\n",
    "lit_rate = [0.0]*len(cities)\n",
    "DRIVER_PATH = \"/path/to/chromedriver\"\n",
    "driver = webdriver.Chrome(options=options,executable_path=DRIVER_PATH)\n",
    "driver.get(\"https://www.census2011.co.in/city.php\")\n",
    "i = 1\n",
    "for i in range(1,499):\n",
    "    ele1 = driver.find_element(\"xpath\",\"//table/tbody/tr[\"+str(i)+\"]/td[2]\")\n",
    "    ele2 = driver.find_element(\"xpath\",\"//table/tbody/tr[\"+str(i)+\"]/td[4]\")\n",
    "    ele3 = driver.find_element(\"xpath\",\"//table/tbody/tr[\"+str(i)+\"]/td[7]\")\n",
    "    city = ele1.text\n",
    "    pop = ele2.text\n",
    "    lit = ele3.text\n",
    "    population = \"\"\n",
    "    for element in pop:\n",
    "        if element != ',':\n",
    "            population = population + element\n",
    "    if(city in dict):\n",
    "        pop_list[dict[city]] = int(population)\n",
    "        lit_rate[dict[city]] = float(lit)\n",
    "print(pop_list)\n",
    "print(lit_rate)\n",
    "        \n",
    "        "
   ]
  },
  {
   "attachments": {},
   "cell_type": "markdown",
   "metadata": {},
   "source": [
    "Step 2: Get area of city."
   ]
  },
  {
   "cell_type": "code",
   "execution_count": null,
   "metadata": {},
   "outputs": [
    {
     "name": "stderr",
     "output_type": "stream",
     "text": [
      "C:\\Users\\varun\\AppData\\Local\\Temp\\ipykernel_3372\\1319355974.py:7: DeprecationWarning: executable_path has been deprecated, please pass in a Service object\n",
      "  driver = webdriver.Chrome(options=options,executable_path=DRIVER_PATH)\n"
     ]
    },
    {
     "name": "stdout",
     "output_type": "stream",
     "text": [
      "[603.4, 426.0, 206.1, 42.7]\n"
     ]
    }
   ],
   "source": [
    "area_list = [0.0]*len(cities)\n",
    "options = Options()\n",
    "options.headless = True\n",
    "options.add_argument(\"--window-size=1920,1200\")\n",
    "\n",
    "DRIVER_PATH = \"/path/to/chromedriver\"\n",
    "driver = webdriver.Chrome(options=options,executable_path=DRIVER_PATH)\n",
    "for i in cities:\n",
    "    driver.get(\"https://www.google.com/search?q=\"+i+\"+area\")\n",
    "    area = driver.find_element(\"xpath\",\"//div[@class = 'Z0LcW t2b5Cf']\")\n",
    "    a = \"\"\n",
    "    for ele in area.text:\n",
    "        if ele == \" \":\n",
    "            break\n",
    "        a = a + ele\n",
    "    area_list[dict[i]] = float(a)\n",
    "driver.quit()\n",
    "print(area_list)"
   ]
  },
  {
   "attachments": {},
   "cell_type": "markdown",
   "metadata": {},
   "source": [
    "Step 3: Calculate Population Density"
   ]
  },
  {
   "cell_type": "code",
   "execution_count": null,
   "metadata": {},
   "outputs": [
    {
     "name": "stdout",
     "output_type": "stream",
     "text": [
      "[20620.439177991382, 10907.821596244132, 21818.02037845706, 258420.49180327868]\n"
     ]
    }
   ],
   "source": [
    "pop_density = [0.0]*len(cities)\n",
    "for i in range(0,len(cities)):\n",
    "    pop_density[i] = (float(pop_list[i]))/area_list[i]\n",
    "print(pop_density)"
   ]
  },
  {
   "attachments": {},
   "cell_type": "markdown",
   "metadata": {},
   "source": [
    "Collecting Crime Rate of Indian Cities."
   ]
  },
  {
   "cell_type": "code",
   "execution_count": null,
   "metadata": {},
   "outputs": [
    {
     "name": "stderr",
     "output_type": "stream",
     "text": [
      "C:\\Users\\varun\\AppData\\Local\\Temp\\ipykernel_15004\\3166139389.py:7: DeprecationWarning: executable_path has been deprecated, please pass in a Service object\n",
      "  driver = webdriver.Chrome(options=options,executable_path=DRIVER_PATH)\n"
     ]
    },
    {
     "name": "stdout",
     "output_type": "stream",
     "text": [
      "[45.08, 39.81, 46.69, 59.16]\n"
     ]
    }
   ],
   "source": [
    "crime_rate = [0.0]*len(cities)\n",
    "options = Options()\n",
    "options.headless = True\n",
    "options.add_argument(\"--window-size=1920,1200\")\n",
    "\n",
    "DRIVER_PATH = \"/path/to/chromedriver\"\n",
    "driver = webdriver.Chrome(options=options,executable_path=DRIVER_PATH)\n",
    "for i in cities:\n",
    "    driver.get(\"https://www.numbeo.com/crime/in/\" + i)\n",
    "    crime = driver.find_element(\"xpath\",\"html/body/div[2]/aside[2]//table/tbody/tr[2]/td[2]\")\n",
    "    crime_rate[dict[i]] = float(crime.text)\n",
    "print(crime_rate)    "
   ]
  },
  {
   "attachments": {},
   "cell_type": "markdown",
   "metadata": {},
   "source": [
    "Collecting the Property Price per Income Ratio"
   ]
  },
  {
   "cell_type": "code",
   "execution_count": 7,
   "metadata": {},
   "outputs": [
    {
     "name": "stderr",
     "output_type": "stream",
     "text": [
      "C:\\Users\\varun\\AppData\\Local\\Temp\\ipykernel_4692\\909191476.py:7: DeprecationWarning: executable_path has been deprecated, please pass in a Service object\n",
      "  driver = webdriver.Chrome(options=options,executable_path=DRIVER_PATH)\n"
     ]
    },
    {
     "name": "stdout",
     "output_type": "stream",
     "text": [
      "[32.38, 11.4, 8.86, 14.31]\n"
     ]
    }
   ],
   "source": [
    "property_ratio = [0.0]*len(cities)\n",
    "options = Options()\n",
    "options.headless = True\n",
    "options.add_argument(\"--window-size=1920,1200\")\n",
    "\n",
    "DRIVER_PATH = \"/path/to/chromedriver\"\n",
    "driver = webdriver.Chrome(options=options,executable_path=DRIVER_PATH)\n",
    "for i in cities:\n",
    "    driver.get(\"https://www.numbeo.com/property-investment/in/\" + i)\n",
    "    property = driver.find_element(\"xpath\",\"html/body/div[2]/div[2]/table/tbody/tr[2]/td[2]\")\n",
    "    property_ratio[dict[i]] = float(property.text)\n",
    "print(property_ratio)    "
   ]
  },
  {
   "attachments": {},
   "cell_type": "markdown",
   "metadata": {},
   "source": [
    "Collecting Average Annual Rainfall in mm"
   ]
  },
  {
   "cell_type": "code",
   "execution_count": null,
   "metadata": {},
   "outputs": [
    {
     "name": "stderr",
     "output_type": "stream",
     "text": [
      "C:\\Users\\varun\\AppData\\Local\\Temp\\ipykernel_18368\\519274090.py:6: DeprecationWarning: executable_path has been deprecated, please pass in a Service object\n",
      "  driver = webdriver.Chrome(options=options,executable_path=DRIVER_PATH)\n"
     ]
    },
    {
     "name": "stdout",
     "output_type": "stream",
     "text": [
      "[2168.0, 1541.0, 1800.0, 790.0]\n"
     ]
    }
   ],
   "source": [
    "options = Options()\n",
    "options.headless = True\n",
    "options.add_argument(\"--window-size=1920,1200\")\n",
    "rain_list = [0.0]*len(cities)\n",
    "DRIVER_PATH = \"/path/to/chromedriver\"\n",
    "driver = webdriver.Chrome(options=options,executable_path=DRIVER_PATH)\n",
    "driver.get(\"https://www.currentresults.com/Weather/India/average-yearly-precipitation.php\")\n",
    "for i in range(1,16):\n",
    "    city = driver.find_element(\"xpath\",\"html/body/div[1]/div[@id = 'maincol']/div[1]/div[4]/table[1]/tbody/tr[\"+str(i)+\"]/td[2]\")\n",
    "    rain = driver.find_element(\"xpath\",\"html/body/div[1]/div[@id = 'maincol']/div[1]/div[4]/table[1]/tbody/tr[\"+str(i)+\"]/td[5]\")\n",
    "    if(city.text == \"New Delhi\"):\n",
    "        rain_list[dict[\"Delhi\"]] = float(rain.text)\n",
    "    if(city.text in dict):\n",
    "        rain_list[dict[city.text]] = float(rain.text)\n",
    "for i in range(1,13):\n",
    "    city = driver.find_element(\"xpath\",\"html/body/div[1]/div[@id = 'maincol']/div[1]/div[4]/table[2]/tbody/tr[\"+str(i)+\"]/td[2]\")\n",
    "    rain = driver.find_element(\"xpath\",\"html/body/div[1]/div[@id = 'maincol']/div[1]/div[4]/table[2]/tbody/tr[\"+str(i)+\"]/td[5]\")\n",
    "    if(city.text == \"Kolkata (Calcutta)\"):\n",
    "        rain_list[dict[\"Kolkata\"]] = float(rain.text)\n",
    "    if(city.text in dict):\n",
    "        rain_list[dict[city.text]] = float(rain.text)\n",
    "for i in range(1,14):\n",
    "    city = driver.find_element(\"xpath\",\"html/body/div[1]/div[@id = 'maincol']/div[1]/div[4]/table[3]/tbody/tr[\"+str(i)+\"]/td[2]\")\n",
    "    rain = driver.find_element(\"xpath\",\"html/body/div[1]/div[@id = 'maincol']/div[1]/div[4]/table[3]/tbody/tr[\"+str(i)+\"]/td[5]\")\n",
    "    if(city.text in dict):\n",
    "        rain_list[dict[city.text]] = float(rain.text)\n",
    "for i in range(1,13):\n",
    "    city = driver.find_element(\"xpath\",\"html/body/div[1]/div[@id = 'maincol']/div[1]/div[4]/table[4]/tbody/tr[\"+str(i)+\"]/td[2]\")\n",
    "    rain = driver.find_element(\"xpath\",\"html/body/div[1]/div[@id = 'maincol']/div[1]/div[4]/table[4]/tbody/tr[\"+str(i)+\"]/td[5]\")\n",
    "    if(city.text in dict):\n",
    "        rain_list[dict[city.text]] = float(rain.text)\n",
    "\n",
    "\n",
    "\n",
    "print(rain_list)"
   ]
  },
  {
   "attachments": {},
   "cell_type": "markdown",
   "metadata": {},
   "source": [
    "Collecting Number of accidents of different cities\n",
    "Note: This website has data on limited cities. Check if city exists before putting it in the data."
   ]
  },
  {
   "cell_type": "code",
   "execution_count": 14,
   "metadata": {},
   "outputs": [
    {
     "name": "stderr",
     "output_type": "stream",
     "text": [
      "C:\\Users\\varun\\AppData\\Local\\Temp\\ipykernel_16564\\3531561454.py:6: DeprecationWarning: executable_path has been deprecated, please pass in a Service object\n",
      "  driver = webdriver.Chrome(options=options,executable_path=DRIVER_PATH)\n"
     ]
    },
    {
     "name": "stdout",
     "output_type": "stream",
     "text": [
      "This website is using a security service to protect itself from online attacks. The action you just performed triggered the security solution. There are several actions that could trigger this block including submitting a certain word or phrase, a SQL command or malformed data.\n",
      "[0.0, 0.0, 0.0, 0.0]\n"
     ]
    }
   ],
   "source": [
    "#TBD\n"
   ]
  },
  {
   "attachments": {},
   "cell_type": "markdown",
   "metadata": {},
   "source": [
    "Collecting Natural Calamitites Data (This will include type, description and articles). To extract the location out of these details we will have to use an NLP library."
   ]
  },
  {
   "cell_type": "code",
   "execution_count": 17,
   "metadata": {},
   "outputs": [
    {
     "name": "stderr",
     "output_type": "stream",
     "text": [
      "C:\\Users\\varun\\AppData\\Local\\Temp\\ipykernel_20180\\1153835287.py:6: DeprecationWarning: executable_path has been deprecated, please pass in a Service object\n",
      "  driver = webdriver.Chrome(options=options,executable_path=DRIVER_PATH)\n"
     ]
    },
    {
     "name": "stdout",
     "output_type": "stream",
     "text": [
      "[['Flood, Landslide', 'Heavy rainfall has been affecting northeastern India (in particular Arunchal Pradesh, Assam, and Meghalaya States) since 13 May 2022, triggering landslides and causing river overflow and floods that have resulted in casualties and damage. Media report, as of 16 May, seven fatalities, of which one in Itanagar City (southern Arunchal Pradesh), due to a landslide, three in the Dima Hasao District (central Assam) also in this case due to a landslide, and three more across central Meghalaya (two in East Khasi Hills District and one Ri-Bhoi District) due to floods.', 'DMC 2022/08/10\\nSituation report regarding Flood/ Heavy rainfall as on 10 2022 at 1800 Hrs'], ['Flood', 'The Disaster Management Division (DMD) of India, reports that at least 24 people have lost their lives after floods in the state of Andhra Pradesh that began from 18-19 November 2021. DMD said that, as of 21 November, 24 people had lost their lives and 17 were missing.', 'DMC 2021/11/22\\nTotal 32 persons have been died, 30 persons are still missing and 3699 houses damaged.'], ['Flood', 'Ongoing floods caused by heavy rains have been affecting the state of Tamil Nadu, southern India since 7 November 2021. 14 people have lost their lives and thousands of people have been displaced due to the disasters.', 'Floodlist 2021/11/12\\nOver 11,000 Displaced by Tamil Nadu Floods']]\n"
     ]
    }
   ],
   "source": [
    "options = Options()\n",
    "options.headless = True\n",
    "options.add_argument(\"--window-size=1920,1200\")\n",
    "natural_calamities = []\n",
    "DRIVER_PATH = \"/path/to/chromedriver\"\n",
    "driver = webdriver.Chrome(options=options,executable_path=DRIVER_PATH)\n",
    "driver.get(\"https://www.adrc.asia/latest_disaster.php?country%5B%5D=356&event%5B%5D=&word=&duration_start=2015%2F01%2F01&duration_end=2023%2F04%2F12&order=1&per_page=200\")\n",
    "for i in range(1,4):#43\n",
    "    val = driver.find_element(\"xpath\",\"//div[@id = 'main_2col_in']/section[1]/div[2]/div[1]/table/tbody/tr[\"+str(i)+\"]/td[1]/a[1]\")\n",
    "    driver.get(val.get_attribute(\"href\"))\n",
    "    desc = driver.find_element(\"xpath\",\"//div[@id = 'main_2col_in']/section[1]/div[1]/table/tbody/tr[4]/td[1]\")\n",
    "    name = driver.find_element(\"xpath\",\"//div[@id = 'main_2col_in']/section[1]/div[1]/table/tbody/tr[3]/td[1]\")\n",
    "    article = driver.find_element(\"xpath\",\"//div[@id = 'main_2col_in']/section[1]/div[3]/p[2]\")\n",
    "    natural_calamities.append([name.text,desc.text,article.text])\n",
    "    driver.back()\n",
    "print(natural_calamities)"
   ]
  }
 ],
 "metadata": {
  "kernelspec": {
   "display_name": "Python 3",
   "language": "python",
   "name": "python3"
  },
  "language_info": {
   "codemirror_mode": {
    "name": "ipython",
    "version": 3
   },
   "file_extension": ".py",
   "mimetype": "text/x-python",
   "name": "python",
   "nbconvert_exporter": "python",
   "pygments_lexer": "ipython3",
   "version": "3.10.11"
  },
  "orig_nbformat": 4
 },
 "nbformat": 4,
 "nbformat_minor": 2
}
