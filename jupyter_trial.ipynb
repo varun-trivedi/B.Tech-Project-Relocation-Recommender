{
 "cells": [
  {
   "cell_type": "code",
   "execution_count": 8,
   "metadata": {},
   "outputs": [],
   "source": [
    "from selenium import webdriver\n",
    "from selenium.common.exceptions import NoSuchElementException\n",
    "from selenium.webdriver.chrome.options import Options\n"
   ]
  },
  {
   "cell_type": "code",
   "execution_count": 10,
   "metadata": {},
   "outputs": [],
   "source": [
    "cities = [\"Mumbai\",\"Chennai\",\"Kolkata\",\"Delhi\"]\n",
    "states = [\"Maharashtra\",\"Tamil Nadu\",\"West Bengal\",\"Delhi\"]"
   ]
  },
  {
   "attachments": {},
   "cell_type": "markdown",
   "metadata": {},
   "source": [
    "Creating Map of cities to Index and states to Index"
   ]
  },
  {
   "cell_type": "code",
   "execution_count": 12,
   "metadata": {},
   "outputs": [
    {
     "name": "stdout",
     "output_type": "stream",
     "text": [
      "{'Mumbai': 0, 'Chennai': 1, 'Kolkata': 2, 'Delhi': 3, 'Maharashtra': 0, 'Tamil Nadu': 1, 'West Bengal': 2}\n"
     ]
    }
   ],
   "source": [
    "a = 0\n",
    "dict = {}\n",
    "for i in cities:\n",
    "    dict.update({i : a})\n",
    "    a = a + 1\n",
    "a= 0\n",
    "for i in states:\n",
    "    dict.update({i:a})\n",
    "    a = a + 1\n",
    "print(dict)\n",
    "    "
   ]
  },
  {
   "attachments": {},
   "cell_type": "markdown",
   "metadata": {},
   "source": [
    "Dynamically Finding AQI of all cities considered."
   ]
  },
  {
   "cell_type": "code",
   "execution_count": 8,
   "metadata": {},
   "outputs": [
    {
     "name": "stderr",
     "output_type": "stream",
     "text": [
      "C:\\Users\\varun\\AppData\\Local\\Temp\\ipykernel_3372\\1417127162.py:7: DeprecationWarning: executable_path has been deprecated, please pass in a Service object\n",
      "  driver = webdriver.Chrome(options=options,executable_path=DRIVER_PATH)\n"
     ]
    },
    {
     "name": "stdout",
     "output_type": "stream",
     "text": [
      "102\n",
      "52\n",
      "95\n",
      "126\n",
      "[102, 52, 95, 126]\n"
     ]
    }
   ],
   "source": [
    "aqi_list = [0]*len(cities)\n",
    "options = Options()\n",
    "options.headless = True\n",
    "options.add_argument(\"--window-size=1920,1200\")\n",
    "\n",
    "DRIVER_PATH = \"/path/to/chromedriver\"\n",
    "driver = webdriver.Chrome(options=options,executable_path=DRIVER_PATH)\n",
    "for i in cities:\n",
    "    driver.get(\"https://www.google.com/search?q=\"+i+\"+aqi\")\n",
    "    aqi = driver.find_element(\"xpath\",\"//span[@class = 'pnbfad']\")\n",
    "    print(aqi.text)\n",
    "    aqi_list[dict[i]] = int(aqi.text)\n",
    "print(aqi_list)\n",
    "driver.quit()"
   ]
  },
  {
   "attachments": {},
   "cell_type": "markdown",
   "metadata": {},
   "source": [
    "Collecting Population Density of each city.\n",
    "Step 1: Get population of each city (Also get literacy rate as it will be needed in some other category)"
   ]
  },
  {
   "cell_type": "code",
   "execution_count": 7,
   "metadata": {},
   "outputs": [
    {
     "name": "stderr",
     "output_type": "stream",
     "text": [
      "C:\\Users\\varun\\AppData\\Local\\Temp\\ipykernel_15004\\1840481688.py:7: DeprecationWarning: executable_path has been deprecated, please pass in a Service object\n",
      "  driver = webdriver.Chrome(options=options,executable_path=DRIVER_PATH)\n"
     ]
    },
    {
     "name": "stdout",
     "output_type": "stream",
     "text": [
      "[12442373, 4646732, 4496694, 11034555]\n",
      "[89.73, 90.18, 86.31, 87.59]\n"
     ]
    }
   ],
   "source": [
    "options = Options()\n",
    "options.headless = True\n",
    "options.add_argument(\"--window-size=1920,1200\")\n",
    "pop_list = [0]*len(cities)\n",
    "lit_rate = [0.0]*len(cities)\n",
    "DRIVER_PATH = \"/path/to/chromedriver\"\n",
    "driver = webdriver.Chrome(options=options,executable_path=DRIVER_PATH)\n",
    "driver.get(\"https://www.census2011.co.in/city.php\")\n",
    "i = 1\n",
    "for i in range(1,499):\n",
    "    ele1 = driver.find_element(\"xpath\",\"//table/tbody/tr[\"+str(i)+\"]/td[2]\")\n",
    "    ele2 = driver.find_element(\"xpath\",\"//table/tbody/tr[\"+str(i)+\"]/td[4]\")\n",
    "    ele3 = driver.find_element(\"xpath\",\"//table/tbody/tr[\"+str(i)+\"]/td[7]\")\n",
    "    city = ele1.text\n",
    "    pop = ele2.text\n",
    "    lit = ele3.text\n",
    "    population = \"\"\n",
    "    for element in pop:\n",
    "        if element != ',':\n",
    "            population = population + element\n",
    "    if(city in dict):\n",
    "        pop_list[dict[city]] = int(population)\n",
    "        lit_rate[dict[city]] = float(lit)\n",
    "print(pop_list)\n",
    "print(lit_rate)\n",
    "        \n",
    "        "
   ]
  },
  {
   "attachments": {},
   "cell_type": "markdown",
   "metadata": {},
   "source": [
    "Step 2: Get area of city."
   ]
  },
  {
   "cell_type": "code",
   "execution_count": 34,
   "metadata": {},
   "outputs": [
    {
     "name": "stderr",
     "output_type": "stream",
     "text": [
      "C:\\Users\\varun\\AppData\\Local\\Temp\\ipykernel_3372\\1319355974.py:7: DeprecationWarning: executable_path has been deprecated, please pass in a Service object\n",
      "  driver = webdriver.Chrome(options=options,executable_path=DRIVER_PATH)\n"
     ]
    },
    {
     "name": "stdout",
     "output_type": "stream",
     "text": [
      "[603.4, 426.0, 206.1, 42.7]\n"
     ]
    }
   ],
   "source": [
    "area_list = [0.0]*len(cities)\n",
    "options = Options()\n",
    "options.headless = True\n",
    "options.add_argument(\"--window-size=1920,1200\")\n",
    "\n",
    "DRIVER_PATH = \"/path/to/chromedriver\"\n",
    "driver = webdriver.Chrome(options=options,executable_path=DRIVER_PATH)\n",
    "for i in cities:\n",
    "    driver.get(\"https://www.google.com/search?q=\"+i+\"+area\")\n",
    "    area = driver.find_element(\"xpath\",\"//div[@class = 'Z0LcW t2b5Cf']\")\n",
    "    a = \"\"\n",
    "    for ele in area.text:\n",
    "        if ele == \" \":\n",
    "            break\n",
    "        a = a + ele\n",
    "    area_list[dict[i]] = float(a)\n",
    "driver.quit()\n",
    "print(area_list)"
   ]
  },
  {
   "attachments": {},
   "cell_type": "markdown",
   "metadata": {},
   "source": [
    "Step 3: Calculate Population Density"
   ]
  },
  {
   "cell_type": "code",
   "execution_count": 36,
   "metadata": {},
   "outputs": [
    {
     "name": "stdout",
     "output_type": "stream",
     "text": [
      "[20620.439177991382, 10907.821596244132, 21818.02037845706, 258420.49180327868]\n"
     ]
    }
   ],
   "source": [
    "pop_density = [0.0]*len(cities)\n",
    "for i in range(0,len(cities)):\n",
    "    pop_density[i] = (float(pop_list[i]))/area_list[i]\n",
    "print(pop_density)"
   ]
  },
  {
   "attachments": {},
   "cell_type": "markdown",
   "metadata": {},
   "source": [
    "Collecting Crime Rate of Indian Cities."
   ]
  },
  {
   "cell_type": "code",
   "execution_count": 5,
   "metadata": {},
   "outputs": [
    {
     "name": "stderr",
     "output_type": "stream",
     "text": [
      "C:\\Users\\varun\\AppData\\Local\\Temp\\ipykernel_15004\\3166139389.py:7: DeprecationWarning: executable_path has been deprecated, please pass in a Service object\n",
      "  driver = webdriver.Chrome(options=options,executable_path=DRIVER_PATH)\n"
     ]
    },
    {
     "name": "stdout",
     "output_type": "stream",
     "text": [
      "[45.08, 39.81, 46.69, 59.16]\n"
     ]
    }
   ],
   "source": [
    "crime_rate = [0.0]*len(cities)\n",
    "options = Options()\n",
    "options.headless = True\n",
    "options.add_argument(\"--window-size=1920,1200\")\n",
    "\n",
    "DRIVER_PATH = \"/path/to/chromedriver\"\n",
    "driver = webdriver.Chrome(options=options,executable_path=DRIVER_PATH)\n",
    "for i in cities:\n",
    "    driver.get(\"https://www.numbeo.com/crime/in/\" + i)\n",
    "    crime = driver.find_element(\"xpath\",\"html/body/div[2]/aside[2]//table/tbody/tr[2]/td[2]\")\n",
    "    crime_rate[dict[i]] = float(crime.text)\n",
    "print(crime_rate)    "
   ]
  },
  {
   "attachments": {},
   "cell_type": "markdown",
   "metadata": {},
   "source": [
    "Collecting the Property Price per Income Ratio"
   ]
  },
  {
   "cell_type": "code",
   "execution_count": 6,
   "metadata": {},
   "outputs": [
    {
     "name": "stderr",
     "output_type": "stream",
     "text": [
      "C:\\Users\\varun\\AppData\\Local\\Temp\\ipykernel_15004\\909191476.py:7: DeprecationWarning: executable_path has been deprecated, please pass in a Service object\n",
      "  driver = webdriver.Chrome(options=options,executable_path=DRIVER_PATH)\n"
     ]
    },
    {
     "name": "stdout",
     "output_type": "stream",
     "text": [
      "[32.37, 11.4, 8.86, 14.31]\n"
     ]
    }
   ],
   "source": [
    "property_ratio = [0.0]*len(cities)\n",
    "options = Options()\n",
    "options.headless = True\n",
    "options.add_argument(\"--window-size=1920,1200\")\n",
    "\n",
    "DRIVER_PATH = \"/path/to/chromedriver\"\n",
    "driver = webdriver.Chrome(options=options,executable_path=DRIVER_PATH)\n",
    "for i in cities:\n",
    "    driver.get(\"https://www.numbeo.com/property-investment/in/\" + i)\n",
    "    property = driver.find_element(\"xpath\",\"html/body/div[2]/div[2]/table/tbody/tr[2]/td[2]\")\n",
    "    property_ratio[dict[i]] = float(property.text)\n",
    "print(property_ratio)    "
   ]
  }
 ],
 "metadata": {
  "kernelspec": {
   "display_name": "Python 3",
   "language": "python",
   "name": "python3"
  },
  "language_info": {
   "codemirror_mode": {
    "name": "ipython",
    "version": 3
   },
   "file_extension": ".py",
   "mimetype": "text/x-python",
   "name": "python",
   "nbconvert_exporter": "python",
   "pygments_lexer": "ipython3",
   "version": "3.10.11"
  },
  "orig_nbformat": 4
 },
 "nbformat": 4,
 "nbformat_minor": 2
}
